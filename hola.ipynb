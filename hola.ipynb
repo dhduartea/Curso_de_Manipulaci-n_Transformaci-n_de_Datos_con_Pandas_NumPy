{
 "cells": [
  {
   "cell_type": "code",
   "execution_count": 3,
   "metadata": {},
   "outputs": [],
   "source": [
    "import os \n",
    "import shutil\n",
    "import errno"
   ]
  },
  {
   "cell_type": "code",
   "execution_count": 53,
   "metadata": {},
   "outputs": [
    {
     "name": "stdout",
     "output_type": "stream",
     "text": [
      "c:\\Users\\dumss\\OneDrive\\Documentos\\Temporal\\Cursos\\Platzi\\Curso_Básico_de_Manipulación_Transformación_de_Datos_con_Pandas_NumPy\n"
     ]
    }
   ],
   "source": [
    "wrdToFind=\"Iphone\"\n",
    "print(os.getcwd())\n"
   ]
  },
  {
   "cell_type": "code",
   "execution_count": 34,
   "metadata": {},
   "outputs": [
    {
     "data": {
      "text/plain": [
       "'C:\\\\Users\\\\dumss\\\\OneDrive\\\\Documentos\\\\Temporal\\\\Cursos\\\\Platzi\\\\Curso_Básico_de_Manipulación_Transformación_de_Datos_con_Pandas_NumPy\\\\Iphone'"
      ]
     },
     "execution_count": 34,
     "metadata": {},
     "output_type": "execute_result"
    }
   ],
   "source": [
    "src=os.getcwd()\n",
    "src_path=os.path.normpath(src)\n",
    "dst_path=os.path.normpath(src+\"/\"+wrdToFind)\n",
    "dst_path"
   ]
  },
  {
   "cell_type": "code",
   "execution_count": 42,
   "metadata": {},
   "outputs": [
    {
     "name": "stdout",
     "output_type": "stream",
     "text": [
      "['.git', '0. introduction.ipynb', '1.tipos_de_datos.ipynb', '2.dimensiones.ipynb', 'hola.ipynb', 'iphone.txt', 'iphone2.txt', 'iphone3.txt']\n"
     ]
    },
    {
     "data": {
      "text/plain": [
       "str"
      ]
     },
     "execution_count": 42,
     "metadata": {},
     "output_type": "execute_result"
    }
   ],
   "source": [
    "res = os.listdir(src_path)\n",
    "\n",
    "print(res)\n",
    "type(res[0])"
   ]
  },
  {
   "cell_type": "code",
   "execution_count": 45,
   "metadata": {},
   "outputs": [
    {
     "data": {
      "text/plain": [
       "['iphone.txt', 'iphone2.txt', 'iphone3.txt']"
      ]
     },
     "execution_count": 45,
     "metadata": {},
     "output_type": "execute_result"
    }
   ],
   "source": [
    "filterList=list(filter(lambda x: wrdToFind.lower() in x != 0,res))\n",
    "filterList"
   ]
  },
  {
   "cell_type": "code",
   "execution_count": 47,
   "metadata": {},
   "outputs": [],
   "source": [
    "try:\n",
    "    os.mkdir(wrdToFind)\n",
    "except OSError as e:\n",
    "    if e.errno != errno.EEXIST:\n",
    "        raise"
   ]
  },
  {
   "cell_type": "code",
   "execution_count": 48,
   "metadata": {},
   "outputs": [],
   "source": [
    "for wrd in filterList:\n",
    "    x=os.path.normpath(src+\"/\"+wrd)\n",
    "    shutil.move(x, dst_path)"
   ]
  },
  {
   "cell_type": "code",
   "execution_count": null,
   "metadata": {},
   "outputs": [],
   "source": []
  }
 ],
 "metadata": {
  "kernelspec": {
   "display_name": "Python 3.10.4 ('py3.10')",
   "language": "python",
   "name": "python3"
  },
  "language_info": {
   "codemirror_mode": {
    "name": "ipython",
    "version": 3
   },
   "file_extension": ".py",
   "mimetype": "text/x-python",
   "name": "python",
   "nbconvert_exporter": "python",
   "pygments_lexer": "ipython3",
   "version": "3.10.4"
  },
  "orig_nbformat": 4,
  "vscode": {
   "interpreter": {
    "hash": "46e7d7cb8fa81d27ef8e4e1746bbdb241b64f4a933d518e6d1d99a78bfc90a7c"
   }
  }
 },
 "nbformat": 4,
 "nbformat_minor": 2
}
