{
 "cells": [
  {
   "cell_type": "code",
   "execution_count": 62,
   "metadata": {},
   "outputs": [],
   "source": [
    "import os \n",
    "import shutil\n",
    "import errno"
   ]
  },
  {
   "cell_type": "code",
   "execution_count": 63,
   "metadata": {},
   "outputs": [
    {
     "name": "stdout",
     "output_type": "stream",
     "text": [
      "c:\\Users\\dumss\\OneDrive\\Documentos\\Temporal\\Cursos\\Platzi\\Curso_Básico_de_Manipulación_Transformación_de_Datos_con_Pandas_NumPy\n"
     ]
    }
   ],
   "source": [
    "wrdToFind=\"Iphone\"\n",
    "print(os.getcwd())\n"
   ]
  },
  {
   "cell_type": "code",
   "execution_count": 64,
   "metadata": {},
   "outputs": [
    {
     "data": {
      "text/plain": [
       "'c:\\\\Users\\\\dumss\\\\OneDrive\\\\Documentos\\\\Temporal\\\\Cursos\\\\Platzi\\\\Curso_Básico_de_Manipulación_Transformación_de_Datos_con_Pandas_NumPy\\\\Iphone'"
      ]
     },
     "execution_count": 64,
     "metadata": {},
     "output_type": "execute_result"
    }
   ],
   "source": [
    "src=os.getcwd()\n",
    "src_path=os.path.normpath(src)\n",
    "dst_path=os.path.normpath(src+\"/\"+wrdToFind)\n",
    "dst_path"
   ]
  },
  {
   "cell_type": "code",
   "execution_count": 65,
   "metadata": {},
   "outputs": [
    {
     "name": "stdout",
     "output_type": "stream",
     "text": [
      "['.git', '0. introduction.ipynb', '1.tipos_de_datos.ipynb', '2.dimensiones.ipynb', '3iphone.txt', 'hola.ipynb', 'iphone.txt', 'Iphone.xls', 'iphone1.txt', 'IPHONe2123.txt', 'kkskiphone.txt', 'perritoiPhone.txt', 'sjjsiphonesjsjs.txt']\n"
     ]
    },
    {
     "data": {
      "text/plain": [
       "str"
      ]
     },
     "execution_count": 65,
     "metadata": {},
     "output_type": "execute_result"
    }
   ],
   "source": [
    "res = os.listdir(src_path)\n",
    "\n",
    "print(res)\n",
    "type(res[0])"
   ]
  },
  {
   "cell_type": "code",
   "execution_count": 66,
   "metadata": {},
   "outputs": [
    {
     "data": {
      "text/plain": [
       "['3iphone.txt',\n",
       " 'iphone.txt',\n",
       " 'Iphone.xls',\n",
       " 'iphone1.txt',\n",
       " 'IPHONe2123.txt',\n",
       " 'kkskiphone.txt',\n",
       " 'perritoiPhone.txt',\n",
       " 'sjjsiphonesjsjs.txt']"
      ]
     },
     "execution_count": 66,
     "metadata": {},
     "output_type": "execute_result"
    }
   ],
   "source": [
    "filterList=list(filter(lambda x: wrdToFind.lower() in x.lower() != 0,res))\n",
    "filterList"
   ]
  },
  {
   "cell_type": "code",
   "execution_count": 67,
   "metadata": {},
   "outputs": [],
   "source": [
    "try:\n",
    "    os.mkdir(wrdToFind)\n",
    "except OSError as e:\n",
    "    if e.errno != errno.EEXIST:\n",
    "        raise"
   ]
  },
  {
   "cell_type": "code",
   "execution_count": 68,
   "metadata": {},
   "outputs": [],
   "source": [
    "for wrd in filterList:\n",
    "    x=os.path.normpath(src+\"/\"+wrd)\n",
    "    shutil.move(x, dst_path)"
   ]
  },
  {
   "cell_type": "code",
   "execution_count": null,
   "metadata": {},
   "outputs": [],
   "source": []
  }
 ],
 "metadata": {
  "kernelspec": {
   "display_name": "Python 3.10.4 ('py3.10')",
   "language": "python",
   "name": "python3"
  },
  "language_info": {
   "codemirror_mode": {
    "name": "ipython",
    "version": 3
   },
   "file_extension": ".py",
   "mimetype": "text/x-python",
   "name": "python",
   "nbconvert_exporter": "python",
   "pygments_lexer": "ipython3",
   "version": "3.10.4"
  },
  "orig_nbformat": 4,
  "vscode": {
   "interpreter": {
    "hash": "46e7d7cb8fa81d27ef8e4e1746bbdb241b64f4a933d518e6d1d99a78bfc90a7c"
   }
  }
 },
 "nbformat": 4,
 "nbformat_minor": 2
}
